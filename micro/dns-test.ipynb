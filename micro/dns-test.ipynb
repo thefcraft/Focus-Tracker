{
 "cells": [
  {
   "cell_type": "code",
   "execution_count": 115,
   "metadata": {},
   "outputs": [],
   "source": [
    "import dns.resolver"
   ]
  },
  {
   "cell_type": "code",
   "execution_count": 150,
   "metadata": {},
   "outputs": [
    {
     "name": "stdout",
     "output_type": "stream",
     "text": [
      "b.com resolved to 10.16.1.174\n"
     ]
    }
   ],
   "source": [
    "def query_dns(domain):\n",
    "    resolver = dns.resolver.Resolver()\n",
    "    resolver.nameservers = ['127.0.0.1']  # Local DNS server\n",
    "\n",
    "    try:\n",
    "        answer = resolver.resolve(domain)\n",
    "        for rdata in answer:\n",
    "            print(f\"{domain} resolved to {rdata}\")\n",
    "    except Exception as e:\n",
    "        print(f\"Error resolving {domain}: {e}\")\n",
    "\n",
    "\n",
    "query_dns('b.com')\n",
    "# query_dns('b.com.')\n",
    "# query_dns('xcom.asd')  # Test with a domain not in the local list"
   ]
  },
  {
   "cell_type": "code",
   "execution_count": null,
   "metadata": {},
   "outputs": [],
   "source": []
  },
  {
   "cell_type": "code",
   "execution_count": null,
   "metadata": {},
   "outputs": [],
   "source": []
  },
  {
   "cell_type": "code",
   "execution_count": null,
   "metadata": {},
   "outputs": [],
   "source": []
  }
 ],
 "metadata": {
  "kernelspec": {
   "display_name": "Python 3",
   "language": "python",
   "name": "python3"
  },
  "language_info": {
   "codemirror_mode": {
    "name": "ipython",
    "version": 3
   },
   "file_extension": ".py",
   "mimetype": "text/x-python",
   "name": "python",
   "nbconvert_exporter": "python",
   "pygments_lexer": "ipython3",
   "version": "3.10.6"
  }
 },
 "nbformat": 4,
 "nbformat_minor": 2
}
